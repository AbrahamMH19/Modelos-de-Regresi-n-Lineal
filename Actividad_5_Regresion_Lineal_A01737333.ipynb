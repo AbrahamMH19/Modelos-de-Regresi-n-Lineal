{
  "nbformat": 4,
  "nbformat_minor": 0,
  "metadata": {
    "colab": {
      "provenance": [],
      "include_colab_link": true
    },
    "kernelspec": {
      "name": "python3",
      "display_name": "Python 3"
    },
    "language_info": {
      "name": "python"
    }
  },
  "cells": [
    {
      "cell_type": "markdown",
      "metadata": {
        "id": "view-in-github",
        "colab_type": "text"
      },
      "source": [
        "<a href=\"https://colab.research.google.com/github/AbrahamMH19/Modelos-de-Regresi-n-Lineal/blob/main/Actividad_5_Regresion_Lineal_A01737333.ipynb\" target=\"_parent\"><img src=\"https://colab.research.google.com/assets/colab-badge.svg\" alt=\"Open In Colab\"/></a>"
      ]
    },
    {
      "cell_type": "code",
      "execution_count": 1,
      "metadata": {
        "id": "pIDCTct8LHiu"
      },
      "outputs": [],
      "source": [
        "# Importar librerias\n",
        "import pandas as pd\n",
        "import numpy as np\n",
        "import matplotlib.pyplot as plt\n",
        "import seaborn as sns\n",
        "from turtle import color"
      ]
    },
    {
      "cell_type": "code",
      "source": [
        "# Subir base de Datos\n",
        "df = pd.read_csv('cuentas_credicel.csv', encoding='latin')\n",
        "\n",
        "df.head(5)"
      ],
      "metadata": {
        "id": "b1nmbZAmLX-5"
      },
      "execution_count": null,
      "outputs": []
    },
    {
      "cell_type": "code",
      "source": [
        "df.info()"
      ],
      "metadata": {
        "id": "AqMELWT7kUoP"
      },
      "execution_count": null,
      "outputs": []
    },
    {
      "cell_type": "markdown",
      "source": [
        "**Limpiar columnas**"
      ],
      "metadata": {
        "id": "w0qSbp7HYETN"
      }
    },
    {
      "cell_type": "code",
      "source": [
        "# Eliminar el signo \"S\" de una columna \"Plazo\"\n",
        "#df['plazo'] = df['plazo'].str.replace('S', '')\n",
        "#df['plazo'] = df['plazo'].astype(int)\n",
        "\n",
        "# Sustituirlos strings Atraso, Cancelado y Fraude por la constante \"0\"\n",
        "df['riesgo']=df['riesgo'].str.replace('Atraso', '0')\n",
        "df['riesgo']=df['riesgo'].str.replace('Cancelado', '0')\n",
        "df['riesgo']=df['riesgo'].str.replace('Fraude', '0')\n",
        "df[\"riesgo\"]= df[\"riesgo\"].fillna(0)\n",
        "#Conversión de tipo de dato de columna de tipo Object a int\n",
        "df['costo_total']= df['costo_total'].astype(float)\n",
        "\n",
        "#Sustituyo valores nulos por el numero \"0\"\n",
        "#Tercer método de sustitución de valores nulos\n",
        "#Sustituir valores nulos por un valor numérico en  concreto\n",
        "df[\"porc_enganche\"]= df[\"porc_enganche\"].fillna(0)"
      ],
      "metadata": {
        "id": "c4OSBNhQXM84"
      },
      "execution_count": 13,
      "outputs": []
    },
    {
      "cell_type": "markdown",
      "source": [
        "**Sacar Gráficas**"
      ],
      "metadata": {
        "id": "rjHCtsaPZ3qo"
      }
    },
    {
      "cell_type": "code",
      "source": [
        "sns.scatterplot(x='enganche', y='riesgo', color=\"red\", data=df)"
      ],
      "metadata": {
        "id": "KPXMPUYnOQ4t"
      },
      "execution_count": null,
      "outputs": []
    },
    {
      "cell_type": "code",
      "source": [
        "sns.scatterplot(x='precio', y='plazo', color=\"red\", data=df)"
      ],
      "metadata": {
        "id": "Wf7wwCtClQTE"
      },
      "execution_count": null,
      "outputs": []
    },
    {
      "cell_type": "code",
      "source": [
        "sns.scatterplot(x='costo_total', y='monto_financiado', color=\"red\", data=df)"
      ],
      "metadata": {
        "id": "Hukkukt4a33S"
      },
      "execution_count": null,
      "outputs": []
    },
    {
      "cell_type": "code",
      "source": [
        "sns.scatterplot(x='pagos_realizados', y='porc_enganche', color=\"red\", data=df)"
      ],
      "metadata": {
        "id": "STqK_rCmlA1W"
      },
      "execution_count": null,
      "outputs": []
    },
    {
      "cell_type": "code",
      "source": [
        "# Definir modelo de regresion lineal\n",
        "from sklearn.linear_model import LinearRegression\n",
        "model = LinearRegression()\n",
        "\n",
        "# Y declarar variables dependientes e independientes para la regresión lineal"
      ],
      "metadata": {
        "id": "RrudRyPgP_wR"
      },
      "execution_count": 19,
      "outputs": []
    },
    {
      "cell_type": "markdown",
      "source": [
        "**Modelo 1**"
      ],
      "metadata": {
        "id": "2WRY7NWysO7R"
      }
    },
    {
      "cell_type": "code",
      "source": [
        "# Modelo Matematico 1\n",
        "Vars_Indep1= df[[\"enganche\"]]\n",
        "Var_Dep1= df[\"riesgo\"]\n",
        "model.fit(X=Vars_Indep1, y=Var_Dep1)\n",
        "model.__dict__"
      ],
      "metadata": {
        "id": "KtUhu5LusFZR"
      },
      "execution_count": null,
      "outputs": []
    },
    {
      "cell_type": "code",
      "source": [
        "# Coeficiente Determinacion 1\n",
        "coef_Deter1 = model.score(X = Vars_Indep1, y = Var_Dep1)\n",
        "coef_Deter1"
      ],
      "metadata": {
        "colab": {
          "base_uri": "https://localhost:8080/"
        },
        "id": "LlfKWIENsDCg",
        "outputId": "6a0f5bb4-c1c1-4f19-fa03-5406829ed7c6"
      },
      "execution_count": 21,
      "outputs": [
        {
          "output_type": "execute_result",
          "data": {
            "text/plain": [
              "0.042564202425108943"
            ]
          },
          "metadata": {},
          "execution_count": 21
        }
      ]
    },
    {
      "cell_type": "code",
      "source": [
        "# Coeficiente Correlacion 1\n",
        "coef_Correl1 = np.sqrt(coef_Deter1)\n",
        "coef_Correl1"
      ],
      "metadata": {
        "colab": {
          "base_uri": "https://localhost:8080/"
        },
        "id": "KTHr2Tuasg_3",
        "outputId": "ba9e696d-8353-4f90-9564-de4313d047a4"
      },
      "execution_count": 22,
      "outputs": [
        {
          "output_type": "execute_result",
          "data": {
            "text/plain": [
              "0.20631093627122374"
            ]
          },
          "metadata": {},
          "execution_count": 22
        }
      ]
    },
    {
      "cell_type": "markdown",
      "source": [
        "**Modelo 2**"
      ],
      "metadata": {
        "id": "kyxZf3QhtroW"
      }
    },
    {
      "cell_type": "code",
      "source": [
        "# Modelo Matematico 2\n",
        "Vars_Indep2= df[[\"precio\"]]\n",
        "Var_Dep2= df[\"plazo\"]\n",
        "model.fit(X=Vars_Indep2, y=Var_Dep2)\n",
        "model.__dict__"
      ],
      "metadata": {
        "id": "vV9HLLmimqBq"
      },
      "execution_count": null,
      "outputs": []
    },
    {
      "cell_type": "code",
      "source": [
        "# Coeficiente Determinacion 2\n",
        "coef_Deter2 = model.score(X = Vars_Indep2, y = Var_Dep2)\n",
        "coef_Deter2"
      ],
      "metadata": {
        "colab": {
          "base_uri": "https://localhost:8080/"
        },
        "id": "Ap16bvEjt7A4",
        "outputId": "f01e87a1-2a76-4281-f23b-78546b28e2f6"
      },
      "execution_count": 24,
      "outputs": [
        {
          "output_type": "execute_result",
          "data": {
            "text/plain": [
              "0.041877006763330726"
            ]
          },
          "metadata": {},
          "execution_count": 24
        }
      ]
    },
    {
      "cell_type": "code",
      "source": [
        "# Coeficiente Correlacion 1\n",
        "coef_Correl2 = np.sqrt(coef_Deter2)\n",
        "coef_Correl2"
      ],
      "metadata": {
        "colab": {
          "base_uri": "https://localhost:8080/"
        },
        "id": "V_-aVeb9t6bb",
        "outputId": "6648eeca-c026-4ba1-e062-3e3a5367e3ae"
      },
      "execution_count": 25,
      "outputs": [
        {
          "output_type": "execute_result",
          "data": {
            "text/plain": [
              "0.20463872254128915"
            ]
          },
          "metadata": {},
          "execution_count": 25
        }
      ]
    },
    {
      "cell_type": "markdown",
      "source": [
        "**Modelo 3**"
      ],
      "metadata": {
        "id": "CDjLQFZ4uuU8"
      }
    },
    {
      "cell_type": "code",
      "source": [
        "# Modelo Matematico 3\n",
        "Vars_Indep3= df[[\"costo_total\"]]\n",
        "Var_Dep3= df[\"monto_financiado\"]\n",
        "model.fit(X=Vars_Indep3, y=Var_Dep3)\n",
        "model.__dict__"
      ],
      "metadata": {
        "colab": {
          "base_uri": "https://localhost:8080/"
        },
        "id": "AFAyitbmmswh",
        "outputId": "0da276bb-77fe-4fc1-f686-1552ebd3b835"
      },
      "execution_count": 26,
      "outputs": [
        {
          "output_type": "execute_result",
          "data": {
            "text/plain": [
              "{'fit_intercept': True,\n",
              " 'copy_X': True,\n",
              " 'n_jobs': None,\n",
              " 'positive': False,\n",
              " 'feature_names_in_': array(['costo_total'], dtype=object),\n",
              " 'n_features_in_': 1,\n",
              " 'coef_': array([0.42741682]),\n",
              " 'rank_': 1,\n",
              " 'singular_': array([359751.03527969]),\n",
              " 'intercept_': 639.9922581004103}"
            ]
          },
          "metadata": {},
          "execution_count": 26
        }
      ]
    },
    {
      "cell_type": "code",
      "source": [
        "# Coeficiente Determinacion 3\n",
        "coef_Deter3 = model.score(X = Vars_Indep3, y = Var_Dep3)\n",
        "coef_Deter3"
      ],
      "metadata": {
        "colab": {
          "base_uri": "https://localhost:8080/"
        },
        "id": "xrxvpAwCu1QC",
        "outputId": "558d2789-6af9-4de8-dae0-09d8722674a0"
      },
      "execution_count": 27,
      "outputs": [
        {
          "output_type": "execute_result",
          "data": {
            "text/plain": [
              "0.8646380417764322"
            ]
          },
          "metadata": {},
          "execution_count": 27
        }
      ]
    },
    {
      "cell_type": "code",
      "source": [
        "# Coeficiente Correlacion 3\n",
        "coef_Correl3 = np.sqrt(coef_Deter3)\n",
        "coef_Correl3"
      ],
      "metadata": {
        "colab": {
          "base_uri": "https://localhost:8080/"
        },
        "id": "cab8QVGOu8Mv",
        "outputId": "a3459280-d387-4469-f189-dbd4ba3535df"
      },
      "execution_count": 28,
      "outputs": [
        {
          "output_type": "execute_result",
          "data": {
            "text/plain": [
              "0.929859151579653"
            ]
          },
          "metadata": {},
          "execution_count": 28
        }
      ]
    },
    {
      "cell_type": "markdown",
      "source": [
        "**Modelo 4**"
      ],
      "metadata": {
        "id": "HH-O2dzLvH0M"
      }
    },
    {
      "cell_type": "code",
      "source": [
        "# Modelo 4\n",
        "Vars_Indep4= df[[\"pagos_realizados\"]]\n",
        "Var_Dep4= df[\"porc_enganche\"]\n",
        "model.fit(X=Vars_Indep4, y=Var_Dep4)\n",
        "model.__dict__"
      ],
      "metadata": {
        "colab": {
          "base_uri": "https://localhost:8080/"
        },
        "id": "e17OiNnamtOQ",
        "outputId": "4a5efffa-1a27-409c-820a-64c104e26d9c"
      },
      "execution_count": 29,
      "outputs": [
        {
          "output_type": "execute_result",
          "data": {
            "text/plain": [
              "{'fit_intercept': True,\n",
              " 'copy_X': True,\n",
              " 'n_jobs': None,\n",
              " 'positive': False,\n",
              " 'feature_names_in_': array(['pagos_realizados'], dtype=object),\n",
              " 'n_features_in_': 1,\n",
              " 'coef_': array([-0.15132576]),\n",
              " 'rank_': 1,\n",
              " 'singular_': array([1463.82068582]),\n",
              " 'intercept_': 2.3432248342563584}"
            ]
          },
          "metadata": {},
          "execution_count": 29
        }
      ]
    },
    {
      "cell_type": "code",
      "source": [
        "# Coeficiente Determinacion 4\n",
        "coef_Deter4 = model.score(X = Vars_Indep4, y = Var_Dep4)\n",
        "coef_Deter4"
      ],
      "metadata": {
        "colab": {
          "base_uri": "https://localhost:8080/"
        },
        "id": "-zpB_x7rvQ3J",
        "outputId": "0ccf2791-782f-4642-dd17-1db383fa223b"
      },
      "execution_count": 30,
      "outputs": [
        {
          "output_type": "execute_result",
          "data": {
            "text/plain": [
              "0.06523723314088559"
            ]
          },
          "metadata": {},
          "execution_count": 30
        }
      ]
    },
    {
      "cell_type": "code",
      "source": [
        "# Coeficiente Correlacion 4\n",
        "coef_Correl4 = np.sqrt(coef_Deter4)\n",
        "coef_Correl4"
      ],
      "metadata": {
        "colab": {
          "base_uri": "https://localhost:8080/"
        },
        "id": "d9LNGqYbvgub",
        "outputId": "f1425cdf-72bc-4d62-9d60-a62a5d6571e6"
      },
      "execution_count": 31,
      "outputs": [
        {
          "output_type": "execute_result",
          "data": {
            "text/plain": [
              "0.25541580440702094"
            ]
          },
          "metadata": {},
          "execution_count": 31
        }
      ]
    },
    {
      "cell_type": "markdown",
      "source": [
        "- - -\n",
        "**Los modelos son los siguientes:**\n",
        "\n",
        "---\n",
        "             \n",
        "*Modelo Matemático 1:* 0.00601946x - 3.422566722440304\n",
        "\n",
        "*Modelo Determinación 1:* 0.042564202425108943\n",
        "\n",
        "*Modelo Correlación 1:* 0.20631093627122374 texto en cursiva\n",
        "\n",
        "---\n",
        "\n",
        "Modelo Matemático 2: 0.00150129x + 19.90894959705299\n",
        "\n",
        "*Modelo Determinación 2:* 0.041877006763330726\n",
        "\n",
        "*Modelo Correlación 2:* 0.20463872254128915\n",
        "\n",
        "---\n",
        "\n",
        "Modelo Matemático 3: 0.42741682x + 639.9922581004103\n",
        "\n",
        "*Modelo Determinación 3:* 0.8646380417764322\n",
        "\n",
        "*Modelo Correlación 3:* 0.929859151579653\n",
        "\n",
        "---\n",
        "\n",
        "*Modelo Matemático 4:* -0.15132576x + 2.3432248342563584\n",
        "\n",
        "*Modelo Determinación 4:* 0.06523723314088559\n",
        "\n",
        "*Modelo Correlación 4:* 0.25541580440702094\n",
        "\n",
        "---"
      ],
      "metadata": {
        "id": "AR8Uil1DRxdD"
      }
    }
  ]
}